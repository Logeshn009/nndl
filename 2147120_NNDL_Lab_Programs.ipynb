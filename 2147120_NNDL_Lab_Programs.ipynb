{
  "nbformat": 4,
  "nbformat_minor": 0,
  "metadata": {
    "colab": {
      "provenance": [],
      "toc_visible": true,
      "authorship_tag": "ABX9TyNo9fmn38Bwq9QvNIStf+gW",
      "include_colab_link": true
    },
    "kernelspec": {
      "name": "python3",
      "display_name": "Python 3"
    },
    "language_info": {
      "name": "python"
    }
  },
  "cells": [
    {
      "cell_type": "markdown",
      "metadata": {
        "id": "view-in-github",
        "colab_type": "text"
      },
      "source": [
        "<a href=\"https://colab.research.google.com/github/Logeshn009/nndl/blob/main/2147120_NNDL_Lab_Programs.ipynb\" target=\"_parent\"><img src=\"https://colab.research.google.com/assets/colab-badge.svg\" alt=\"Open In Colab\"/></a>"
      ]
    },
    {
      "cell_type": "markdown",
      "source": [
        "Elements of a Neural Network :- \n",
        "\n",
        "Input Layer :- This layer accepts input features. It provides information from the outside world to the network, no computation is performed at this layer, nodes here just pass on the information(features) to the hidden layer. \n",
        "\n",
        "Hidden Layer :- Nodes of this layer are not exposed to the outer world, they are the part of the abstraction provided by any neural network. Hidden layer performs all sort of computation on the features entered through the input layer and transfer the result to the output layer. Output Layer :- This layer bring up the information learned by the network to the outer world. \n",
        "\n",
        "What is an activation function and why to use them? \n",
        "\n",
        "Definition of activation function:- Activation function decides, whether a neuron should be activated or not by calculating weighted sum and further adding bias with it. The purpose of the activation function is to introduce non-linearity into the output of a neuron. "
      ],
      "metadata": {
        "id": "Qg1BgoC-il6i"
      }
    },
    {
      "cell_type": "markdown",
      "source": [
        "In a neural network, we would update the weights and biases of the neurons on the basis of the error at the output. This process is known as back-propagation. Activation functions make the back-propagation possible since the gradients are supplied along with the error to update the weights and biases. "
      ],
      "metadata": {
        "id": "RdibAupXnqM6"
      }
    },
    {
      "cell_type": "markdown",
      "source": [
        "Why do we need Non-linear activation functions :- A neural network without an activation function is essentially just a linear regression model. The activation function does the non-linear transformation to the input making it capable to learn and perform more complex tasks. "
      ],
      "metadata": {
        "id": "39r2c0aPoL3Y"
      }
    },
    {
      "cell_type": "markdown",
      "source": [
        "# Lab 1 - a) Activation functions"
      ],
      "metadata": {
        "id": "_tQG_bqbd2n8"
      }
    },
    {
      "cell_type": "code",
      "source": [
        "# importing necessary packages\n",
        "\n",
        "import numpy as np\n",
        "import pandas as pd\n",
        "import matplotlib.pyplot as plt"
      ],
      "metadata": {
        "id": "YqBaOpf8eVZl"
      },
      "execution_count": null,
      "outputs": []
    },
    {
      "cell_type": "markdown",
      "source": [
        "# Linear activation function"
      ],
      "metadata": {
        "id": "wkqYzxIEhyGS"
      }
    },
    {
      "cell_type": "code",
      "execution_count": null,
      "metadata": {
        "id": "eADL1JYodtBk"
      },
      "outputs": [],
      "source": [
        "# Linear activation function\n",
        "\n",
        "def linear(x):\n",
        "    ''' y = f(x) It returns the input as it is'''\n",
        "    return x"
      ]
    },
    {
      "cell_type": "code",
      "source": [
        "x = np.linspace(-20, 20)\n",
        "plt.plot(x, linear(x))\n",
        "plt.axis('tight')\n",
        "plt.title('Activation Function :Linear')\n",
        "plt.show()"
      ],
      "metadata": {
        "colab": {
          "base_uri": "https://localhost:8080/",
          "height": 281
        },
        "id": "w4xeKLbcedfB",
        "outputId": "ea0687cf-9f38-45e2-e75f-9a9dd16e276d"
      },
      "execution_count": null,
      "outputs": [
        {
          "output_type": "display_data",
          "data": {
            "text/plain": [
              "<Figure size 432x288 with 1 Axes>"
            ],
            "image/png": "[encoded data removed]"
          },
          "metadata": {
            "needs_background": "light"
          }
        }
      ]
    },
    {
      "cell_type": "markdown",
      "source": [
        "Linear function has the equation similar to as of a straight line i.e. y = x\n",
        "No matter how many layers we have, if all are linear in nature, the final activation function of last layer is nothing but just a linear function of the input of first layer."
      ],
      "metadata": {
        "id": "yjGnurYgpTh2"
      }
    },
    {
      "cell_type": "markdown",
      "source": [
        "# Logistic (Sigmoid) activation function"
      ],
      "metadata": {
        "id": "iTpwpNYViZOK"
      }
    },
    {
      "cell_type": "code",
      "source": [
        "# Sigmoid activation function\n",
        "\n",
        "def sigmoid(x):\n",
        "    ''' It returns 1/(1+exp(-x)). where the values lies between zero and one '''\n",
        "\n",
        "    return 1/(1+np.exp(-x))"
      ],
      "metadata": {
        "id": "df_OQ5bWesk5"
      },
      "execution_count": null,
      "outputs": []
    },
    {
      "cell_type": "markdown",
      "source": [
        "np.exp is a function used to calculate exponential of all the elements in the input"
      ],
      "metadata": {
        "id": "7dkZyqXvua1T"
      }
    },
    {
      "cell_type": "code",
      "source": [
        "x = np.linspace(-30, 30)\n",
        "plt.plot(x, sigmoid(x))\n",
        "plt.axis('tight')\n",
        "plt.title('Activation Function :Sigmoid')\n",
        "plt.show()"
      ],
      "metadata": {
        "colab": {
          "base_uri": "https://localhost:8080/",
          "height": 281
        },
        "id": "tWSzAIZNgpuC",
        "outputId": "6836397d-f992-4305-9a0c-0e3dbd0d7179"
      },
      "execution_count": null,
      "outputs": [
        {
          "output_type": "display_data",
          "data": {
            "text/plain": [
              "<Figure size 432x288 with 1 Axes>"
            ],
            "image/png": "[encoded data removed]"
          },
          "metadata": {
            "needs_background": "light"
          }
        }
      ]
    },
    {
      "cell_type": "markdown",
      "source": [
        "It is a function which is plotted as ‘S’ shaped graph.\n",
        "1. Equation : A = 1/(1 + e-x)\n",
        "2. Nature : Non-linear. Notice that X values lies between -30 to 30, Y values are  very steep. This means, small changes in x would also bring about large changes in the value of Y. Value Range : 0 to 1\n",
        "3. Uses : Usually used in output layer of a binary classification, where result is either 0 or 1, as value for sigmoid function lies between 0 and 1 only so, result can be predicted easily to be 1 if value is greater than 0.5 and 0 otherwise."
      ],
      "metadata": {
        "id": "4Ip-K6SIpm6E"
      }
    },
    {
      "cell_type": "markdown",
      "source": [
        "# Hyperbolic Tangent activation function"
      ],
      "metadata": {
        "id": "R7cAX5S-iz85"
      }
    },
    {
      "cell_type": "code",
      "source": [
        "# hyperbolic Tangent activation function\n",
        "\n",
        "def tanh(x):\n",
        "    ''' It returns the value (1-exp(-2x))/(1+exp(-2x)) and the value returned will be lies in between -1 to 1.'''\n",
        "\n",
        "    return np.tanh(x)"
      ],
      "metadata": {
        "id": "7yMxZH9Xg-Zy"
      },
      "execution_count": null,
      "outputs": []
    },
    {
      "cell_type": "markdown",
      "source": [
        "np.tanh of np.(sinh/cosh) function that helps to calculate hyperbolic tangent for all x."
      ],
      "metadata": {
        "id": "zUYqUZjnup2k"
      }
    },
    {
      "cell_type": "code",
      "source": [
        "x = np.linspace(-5, 5)\n",
        "plt.plot(x, tanh(x))\n",
        "plt.axis('tight')\n",
        "plt.title('Activation Function: Hyperbolic Tangent')\n",
        "plt.show()"
      ],
      "metadata": {
        "colab": {
          "base_uri": "https://localhost:8080/",
          "height": 281
        },
        "id": "AUbcPLPghOla",
        "outputId": "9182dd73-ef5b-468f-fede-ccef1c9a8303"
      },
      "execution_count": null,
      "outputs": [
        {
          "output_type": "display_data",
          "data": {
            "text/plain": [
              "<Figure size 432x288 with 1 Axes>"
            ],
            "image/png": "[encoded data removed]"
          },
          "metadata": {
            "needs_background": "light"
          }
        }
      ]
    },
    {
      "cell_type": "markdown",
      "source": [
        "The activation that works almost always better than sigmoid function is Tanh function also knows as Tangent Hyperbolic function. It’s actually mathematically shifted version of the sigmoid function. Both are similar and can be derived from each other.\n",
        "\n"
      ],
      "metadata": {
        "id": "T_GSXoueq8sP"
      }
    },
    {
      "cell_type": "markdown",
      "source": [
        "# Piece-wise linear activation function"
      ],
      "metadata": {
        "id": "dNFjlfcFsIYC"
      }
    },
    {
      "cell_type": "code",
      "source": [
        "# piece-wise linear activation function\n",
        "\n",
        "x=np.arange(-3,3,1)\n",
        "z = []\n",
        "\n",
        "for i in x:\n",
        "  if i >= 1/2:\n",
        "    z.append(1)\n",
        "  elif i < 1/2 or i > -1/2:\n",
        "    z.append(i+(1/2))\n",
        "  else: # i <= - 1/2\n",
        "    z.append(0)\n",
        "\n",
        "print(x)\n",
        "print(z)\n",
        "\n",
        "plt.grid()\n",
        "plt.xlim((-3,3))\n",
        "plt.ylim((-3,3))\n",
        "plt.plot(x,z)\n",
        "plt.xlabel(\"x\")\n",
        "plt.ylabel(\"PieceWiseLinear(x)\")\n",
        "\n",
        "plt.show()"
      ],
      "metadata": {
        "colab": {
          "base_uri": "https://localhost:8080/",
          "height": 318
        },
        "id": "81jNGNJ1jTN6",
        "outputId": "a35911b7-63af-4547-857f-0ada7497369c"
      },
      "execution_count": null,
      "outputs": [
        {
          "output_type": "stream",
          "name": "stdout",
          "text": [
            "[-3 -2 -1  0  1  2]\n",
            "[-2.5, -1.5, -0.5, 0.5, 1, 1]\n"
          ]
        },
        {
          "output_type": "display_data",
          "data": {
            "text/plain": [
              "<Figure size 432x288 with 1 Axes>"
            ],
            "image/png": "[encoded data removed]"
          },
          "metadata": {
            "needs_background": "light"
          }
        }
      ]
    },
    {
      "cell_type": "markdown",
      "source": [
        "Piece-wise linear activation function:\n",
        "\n",
        "f(x) ={ 1,  x >=0.5,\n",
        "        x + 0.5,   -0.5 < x < 0.5,\n",
        "        0,   0 <= -0.5 }\n",
        "\n",
        "eg: svm"
      ],
      "metadata": {
        "id": "ECP00oeItlGA"
      }
    },
    {
      "cell_type": "markdown",
      "source": [
        "# Unit step (heaviside)"
      ],
      "metadata": {
        "id": "JQdOUyzQvBmk"
      }
    },
    {
      "cell_type": "code",
      "source": [
        "# Unit step (heaviside)\n",
        "\n",
        "x=np.arange(-5,5,1)\n",
        "z = []\n",
        "\n",
        "for i in x:\n",
        "  if i < 0:\n",
        "    z.append(0)\n",
        "  elif i == 0:\n",
        "    z.append(0.5)\n",
        "  else:\n",
        "    z.append(1)\n",
        "\n",
        "print(x)\n",
        "print(z)\n",
        "\n",
        "plt.plot(x,z)\n",
        "plt.xlabel(\"x\")\n",
        "plt.ylabel(\"Heaviside(x)\")\n",
        "\n",
        "plt.show()"
      ],
      "metadata": {
        "colab": {
          "base_uri": "https://localhost:8080/",
          "height": 314
        },
        "id": "vFo7DLnVsNtT",
        "outputId": "c9e1bd5e-dddb-4689-dac2-0c89a243de31"
      },
      "execution_count": null,
      "outputs": [
        {
          "output_type": "stream",
          "name": "stdout",
          "text": [
            "[-5 -4 -3 -2 -1  0  1  2  3  4]\n",
            "[0, 0, 0, 0, 0, 0.5, 1, 1, 1, 1]\n"
          ]
        },
        {
          "output_type": "display_data",
          "data": {
            "text/plain": [
              "<Figure size 432x288 with 1 Axes>"
            ],
            "image/png": "[encoded data removed]"
          },
          "metadata": {
            "needs_background": "light"
          }
        }
      ]
    },
    {
      "cell_type": "markdown",
      "source": [
        "# Sign (Signum) Activation function"
      ],
      "metadata": {
        "id": "y5DEK-yMvMc5"
      }
    },
    {
      "cell_type": "code",
      "source": [
        "x=np.arange(-30,30,2)\n",
        "z = []\n",
        "\n",
        "for i in x:\n",
        "  if i < 0:\n",
        "    z.append(-1)\n",
        "  elif i == 0:\n",
        "    z.append(0)\n",
        "  else:\n",
        "    z.append(1)\n",
        "\n",
        "print(x)\n",
        "print(z)\n",
        "\n",
        "plt.plot(x,z)\n",
        "plt.xlabel(\"x\")\n",
        "plt.ylabel(\"Signum(x)\")\n",
        "\n",
        "plt.show()"
      ],
      "metadata": {
        "colab": {
          "base_uri": "https://localhost:8080/",
          "height": 331
        },
        "id": "r7iPBVdjvRgb",
        "outputId": "a3be3590-b7c5-40db-82ea-07d0244f2a21"
      },
      "execution_count": null,
      "outputs": [
        {
          "output_type": "stream",
          "name": "stdout",
          "text": [
            "[-30 -28 -26 -24 -22 -20 -18 -16 -14 -12 -10  -8  -6  -4  -2   0   2   4\n",
            "   6   8  10  12  14  16  18  20  22  24  26  28]\n",
            "[-1, -1, -1, -1, -1, -1, -1, -1, -1, -1, -1, -1, -1, -1, -1, 0, 1, 1, 1, 1, 1, 1, 1, 1, 1, 1, 1, 1, 1, 1]\n"
          ]
        },
        {
          "output_type": "display_data",
          "data": {
            "text/plain": [
              "<Figure size 432x288 with 1 Axes>"
            ],
            "image/png": "[encoded data removed]"
          },
          "metadata": {
            "needs_background": "light"
          }
        }
      ]
    },
    {
      "cell_type": "markdown",
      "source": [
        "# b) Iris dataset"
      ],
      "metadata": {
        "id": "gLhI4Mv50djf"
      }
    },
    {
      "cell_type": "code",
      "source": [
        "from google.colab import files"
      ],
      "metadata": {
        "id": "U6TroCnrx9-k"
      },
      "execution_count": null,
      "outputs": []
    },
    {
      "cell_type": "code",
      "source": [
        "uploaded=files.upload()"
      ],
      "metadata": {
        "colab": {
          "base_uri": "https://localhost:8080/",
          "height": 74
        },
        "id": "kSS_CeuqyUC8",
        "outputId": "4f71dca1-96e7-43fb-bb92-16f12f4fa38a"
      },
      "execution_count": null,
      "outputs": [
        {
          "output_type": "display_data",
          "data": {
            "text/plain": [
              "<IPython.core.display.HTML object>"
            ],
            "text/html": [
              "\n",
              "     <input type=\"file\" id=\"files-6d9ee8b2-7bed-4aae-a786-34efc29cb603\" name=\"files[]\" multiple disabled\n",
              "        style=\"border:none\" />\n",
              "     <output id=\"result-6d9ee8b2-7bed-4aae-a786-34efc29cb603\">\n",
              "      Upload widget is only available when the cell has been executed in the\n",
              "      current browser session. Please rerun this cell to enable.\n",
              "      </output>\n",
              "      <script>// Copyright 2017 Google LLC\n",
              "//\n",
              "// Licensed under the Apache License, Version 2.0 (the \"License\");\n",
              "// you may not use this file except in compliance with the License.\n",
              "// You may obtain a copy of the License at\n",
              "//\n",
              "//      http://www.apache.org/licenses/LICENSE-2.0\n",
              "//\n",
              "// Unless required by applicable law or agreed to in writing, software\n",
              "// distributed under the License is distributed on an \"AS IS\" BASIS,\n",
              "// WITHOUT WARRANTIES OR CONDITIONS OF ANY KIND, either express or implied.\n",
              "// See the License for the specific language governing permissions and\n",
              "// limitations under the License.\n",
              "\n",
              "/**\n",
              " * @fileoverview Helpers for google.colab Python module.\n",
              " */\n",
              "(function(scope) {\n",
              "function span(text, styleAttributes = {}) {\n",
              "  const element = document.createElement('span');\n",
              "  element.textContent = text;\n",
              "  for (const key of Object.keys(styleAttributes)) {\n",
              "    element.style[key] = styleAttributes[key];\n",
              "  }\n",
              "  return element;\n",
              "}\n",
              "\n",
              "// Max number of bytes which will be uploaded at a time.\n",
              "const MAX_PAYLOAD_SIZE = 100 * 1024;\n",
              "\n",
              "function _uploadFiles(inputId, outputId) {\n",
              "  const steps = uploadFilesStep(inputId, outputId);\n",
              "  const outputElement = document.getElementById(outputId);\n",
              "  // Cache steps on the outputElement to make it available for the next call\n",
              "  // to uploadFilesContinue from Python.\n",
              "  outputElement.steps = steps;\n",
              "\n",
              "  return _uploadFilesContinue(outputId);\n",
              "}\n",
              "\n",
              "// This is roughly an async generator (not supported in the browser yet),\n",
              "// where there are multiple asynchronous steps and the Python side is going\n",
              "// to poll for completion of each step.\n",
              "// This uses a Promise to block the python side on completion of each step,\n",
              "// then passes the result of the previous step as the input to the next step.\n",
              "function _uploadFilesContinue(outputId) {\n",
              "  const outputElement = document.getElementById(outputId);\n",
              "  const steps = outputElement.steps;\n",
              "\n",
              "  const next = steps.next(outputElement.lastPromiseValue);\n",
              "  return Promise.resolve(next.value.promise).then((value) => {\n",
              "    // Cache the last promise value to make it available to the next\n",
              "    // step of the generator.\n",
              "    outputElement.lastPromiseValue = value;\n",
              "    return next.value.response;\n",
              "  });\n",
              "}\n",
              "\n",
              "/**\n",
              " * Generator function which is called between each async step of the upload\n",
              " * process.\n",
              " * @param {string} inputId Element ID of the input file picker element.\n",
              " * @param {string} outputId Element ID of the output display.\n",
              " * @return {!Iterable<!Object>} Iterable of next steps.\n",
              " */\n",
              "function* uploadFilesStep(inputId, outputId) {\n",
              "  const inputElement = document.getElementById(inputId);\n",
              "  inputElement.disabled = false;\n",
              "\n",
              "  const outputElement = document.getElementById(outputId);\n",
              "  outputElement.innerHTML = '';\n",
              "\n",
              "  const pickedPromise = new Promise((resolve) => {\n",
              "    inputElement.addEventListener('change', (e) => {\n",
              "      resolve(e.target.files);\n",
              "    });\n",
              "  });\n",
              "\n",
              "  const cancel = document.createElement('button');\n",
              "  inputElement.parentElement.appendChild(cancel);\n",
              "  cancel.textContent = 'Cancel upload';\n",
              "  const cancelPromise = new Promise((resolve) => {\n",
              "    cancel.onclick = () => {\n",
              "      resolve(null);\n",
              "    };\n",
              "  });\n",
              "\n",
              "  // Wait for the user to pick the files.\n",
              "  const files = yield {\n",
              "    promise: Promise.race([pickedPromise, cancelPromise]),\n",
              "    response: {\n",
              "      action: 'starting',\n",
              "    }\n",
              "  };\n",
              "\n",
              "  cancel.remove();\n",
              "\n",
              "  // Disable the input element since further picks are not allowed.\n",
              "  inputElement.disabled = true;\n",
              "\n",
              "  if (!files) {\n",
              "    return {\n",
              "      response: {\n",
              "        action: 'complete',\n",
              "      }\n",
              "    };\n",
              "  }\n",
              "\n",
              "  for (const file of files) {\n",
              "    const li = document.createElement('li');\n",
              "    li.append(span(file.name, {fontWeight: 'bold'}));\n",
              "    li.append(span(\n",
              "        `(${file.type || 'n/a'}) - ${file.size} bytes, ` +\n",
              "        `last modified: ${\n",
              "            file.lastModifiedDate ? file.lastModifiedDate.toLocaleDateString() :\n",
              "                                    'n/a'} - `));\n",
              "    const percent = span('0% done');\n",
              "    li.appendChild(percent);\n",
              "\n",
              "    outputElement.appendChild(li);\n",
              "\n",
              "    const fileDataPromise = new Promise((resolve) => {\n",
              "      const reader = new FileReader();\n",
              "      reader.onload = (e) => {\n",
              "        resolve(e.target.result);\n",
              "      };\n",
              "      reader.readAsArrayBuffer(file);\n",
              "    });\n",
              "    // Wait for the data to be ready.\n",
              "    let fileData = yield {\n",
              "      promise: fileDataPromise,\n",
              "      response: {\n",
              "        action: 'continue',\n",
              "      }\n",
              "    };\n",
              "\n",
              "    // Use a chunked sending to avoid message size limits. See b/62115660.\n",
              "    let position = 0;\n",
              "    do {\n",
              "      const length = Math.min(fileData.byteLength - position, MAX_PAYLOAD_SIZE);\n",
              "      const chunk = new Uint8Array(fileData, position, length);\n",
              "      position += length;\n",
              "\n",
              "      const base64 = btoa(String.fromCharCode.apply(null, chunk));\n",
              "      yield {\n",
              "        response: {\n",
              "          action: 'append',\n",
              "          file: file.name,\n",
              "          data: base64,\n",
              "        },\n",
              "      };\n",
              "\n",
              "      let percentDone = fileData.byteLength === 0 ?\n",
              "          100 :\n",
              "          Math.round((position / fileData.byteLength) * 100);\n",
              "      percent.textContent = `${percentDone}% done`;\n",
              "\n",
              "    } while (position < fileData.byteLength);\n",
              "  }\n",
              "\n",
              "  // All done.\n",
              "  yield {\n",
              "    response: {\n",
              "      action: 'complete',\n",
              "    }\n",
              "  };\n",
              "}\n",
              "\n",
              "scope.google = scope.google || {};\n",
              "scope.google.colab = scope.google.colab || {};\n",
              "scope.google.colab._files = {\n",
              "  _uploadFiles,\n",
              "  _uploadFilesContinue,\n",
              "};\n",
              "})(self);\n",
              "</script> "
            ]
          },
          "metadata": {}
        },
        {
          "output_type": "stream",
          "name": "stdout",
          "text": [
            "Saving IRIS.csv to IRIS.csv\n"
          ]
        }
      ]
    },
    {
      "cell_type": "code",
      "source": [
        "df=pd.read_csv('IRIS.csv')"
      ],
      "metadata": {
        "id": "jr-skZtry7hz"
      },
      "execution_count": null,
      "outputs": []
    },
    {
      "cell_type": "code",
      "source": [
        "df.head()"
      ],
      "metadata": {
        "colab": {
          "base_uri": "https://localhost:8080/",
          "height": 206
        },
        "id": "i1cLaokUyaD_",
        "outputId": "35804663-50a9-408b-8af0-f2ef64d8d4f9"
      },
      "execution_count": null,
      "outputs": [
        {
          "output_type": "execute_result",
          "data": {
            "text/plain": [
              "   sepal_length  sepal_width  petal_length  petal_width      species\n",
              "0           5.1          3.5           1.4          0.2  Iris-setosa\n",
              "1           4.9          3.0           1.4          0.2  Iris-setosa\n",
              "2           4.7          3.2           1.3          0.2  Iris-setosa\n",
              "3           4.6          3.1           1.5          0.2  Iris-setosa\n",
              "4           5.0          3.6           1.4          0.2  Iris-setosa"
            ],
            "text/html": [
              "\n",
              "  <div id=\"df-a5d3f9ee-e817-4439-8d64-14b848f01a86\">\n",
              "    <div class=\"colab-df-container\">\n",
              "      <div>\n",
              "<style scoped>\n",
              "    .dataframe tbody tr th:only-of-type {\n",
              "        vertical-align: middle;\n",
              "    }\n",
              "\n",
              "    .dataframe tbody tr th {\n",
              "        vertical-align: top;\n",
              "    }\n",
              "\n",
              "    .dataframe thead th {\n",
              "        text-align: right;\n",
              "    }\n",
              "</style>\n",
              "<table border=\"1\" class=\"dataframe\">\n",
              "  <thead>\n",
              "    <tr style=\"text-align: right;\">\n",
              "      <th></th>\n",
              "      <th>sepal_length</th>\n",
              "      <th>sepal_width</th>\n",
              "      <th>petal_length</th>\n",
              "      <th>petal_width</th>\n",
              "      <th>species</th>\n",
              "    </tr>\n",
              "  </thead>\n",
              "  <tbody>\n",
              "    <tr>\n",
              "      <th>0</th>\n",
              "      <td>5.1</td>\n",
              "      <td>3.5</td>\n",
              "      <td>1.4</td>\n",
              "      <td>0.2</td>\n",
              "      <td>Iris-setosa</td>\n",
              "    </tr>\n",
              "    <tr>\n",
              "      <th>1</th>\n",
              "      <td>4.9</td>\n",
              "      <td>3.0</td>\n",
              "      <td>1.4</td>\n",
              "      <td>0.2</td>\n",
              "      <td>Iris-setosa</td>\n",
              "    </tr>\n",
              "    <tr>\n",
              "      <th>2</th>\n",
              "      <td>4.7</td>\n",
              "      <td>3.2</td>\n",
              "      <td>1.3</td>\n",
              "      <td>0.2</td>\n",
              "      <td>Iris-setosa</td>\n",
              "    </tr>\n",
              "    <tr>\n",
              "      <th>3</th>\n",
              "      <td>4.6</td>\n",
              "      <td>3.1</td>\n",
              "      <td>1.5</td>\n",
              "      <td>0.2</td>\n",
              "      <td>Iris-setosa</td>\n",
              "    </tr>\n",
              "    <tr>\n",
              "      <th>4</th>\n",
              "      <td>5.0</td>\n",
              "      <td>3.6</td>\n",
              "      <td>1.4</td>\n",
              "      <td>0.2</td>\n",
              "      <td>Iris-setosa</td>\n",
              "    </tr>\n",
              "  </tbody>\n",
              "</table>\n",
              "</div>\n",
              "      <button class=\"colab-df-convert\" onclick=\"convertToInteractive('df-a5d3f9ee-e817-4439-8d64-14b848f01a86')\"\n",
              "              title=\"Convert this dataframe to an interactive table.\"\n",
              "              style=\"display:none;\">\n",
              "        \n",
              "  <svg xmlns=\"http://www.w3.org/2000/svg\" height=\"24px\"viewBox=\"0 0 24 24\"\n",
              "       width=\"24px\">\n",
              "    <path d=\"M0 0h24v24H0V0z\" fill=\"none\"/>\n",
              "    <path d=\"M18.56 5.44l.94 2.06.94-2.06 2.06-.94-2.06-.94-.94-2.06-.94 2.06-2.06.94zm-11 1L8.5 8.5l.94-2.06 2.06-.94-2.06-.94L8.5 2.5l-.94 2.06-2.06.94zm10 10l.94 2.06.94-2.06 2.06-.94-2.06-.94-.94-2.06-.94 2.06-2.06.94z\"/><path d=\"M17.41 7.96l-1.37-1.37c-.4-.4-.92-.59-1.43-.59-.52 0-1.04.2-1.43.59L10.3 9.45l-7.72 7.72c-.78.78-.78 2.05 0 2.83L4 21.41c.39.39.9.59 1.41.59.51 0 1.02-.2 1.41-.59l7.78-7.78 2.81-2.81c.8-.78.8-2.07 0-2.86zM5.41 20L4 18.59l7.72-7.72 1.47 1.35L5.41 20z\"/>\n",
              "  </svg>\n",
              "      </button>\n",
              "      \n",
              "  <style>\n",
              "    .colab-df-container {\n",
              "      display:flex;\n",
              "      flex-wrap:wrap;\n",
              "      gap: 12px;\n",
              "    }\n",
              "\n",
              "    .colab-df-convert {\n",
              "      background-color: #E8F0FE;\n",
              "      border: none;\n",
              "      border-radius: 50%;\n",
              "      cursor: pointer;\n",
              "      display: none;\n",
              "      fill: #1967D2;\n",
              "      height: 32px;\n",
              "      padding: 0 0 0 0;\n",
              "      width: 32px;\n",
              "    }\n",
              "\n",
              "    .colab-df-convert:hover {\n",
              "      background-color: #E2EBFA;\n",
              "      box-shadow: 0px 1px 2px rgba(60, 64, 67, 0.3), 0px 1px 3px 1px rgba(60, 64, 67, 0.15);\n",
              "      fill: #174EA6;\n",
              "    }\n",
              "\n",
              "    [theme=dark] .colab-df-convert {\n",
              "      background-color: #3B4455;\n",
              "      fill: #D2E3FC;\n",
              "    }\n",
              "\n",
              "    [theme=dark] .colab-df-convert:hover {\n",
              "      background-color: #434B5C;\n",
              "      box-shadow: 0px 1px 3px 1px rgba(0, 0, 0, 0.15);\n",
              "      filter: drop-shadow(0px 1px 2px rgba(0, 0, 0, 0.3));\n",
              "      fill: #FFFFFF;\n",
              "    }\n",
              "  </style>\n",
              "\n",
              "      <script>\n",
              "        const buttonEl =\n",
              "          document.querySelector('#df-a5d3f9ee-e817-4439-8d64-14b848f01a86 button.colab-df-convert');\n",
              "        buttonEl.style.display =\n",
              "          google.colab.kernel.accessAllowed ? 'block' : 'none';\n",
              "\n",
              "        async function convertToInteractive(key) {\n",
              "          const element = document.querySelector('#df-a5d3f9ee-e817-4439-8d64-14b848f01a86');\n",
              "          const dataTable =\n",
              "            await google.colab.kernel.invokeFunction('convertToInteractive',\n",
              "                                                     [key], {});\n",
              "          if (!dataTable) return;\n",
              "\n",
              "          const docLinkHtml = 'Like what you see? Visit the ' +\n",
              "            '<a target=\"_blank\" href=https://colab.research.google.com/notebooks/data_table.ipynb>data table notebook</a>'\n",
              "            + ' to learn more about interactive tables.';\n",
              "          element.innerHTML = '';\n",
              "          dataTable['output_type'] = 'display_data';\n",
              "          await google.colab.output.renderOutput(dataTable, element);\n",
              "          const docLink = document.createElement('div');\n",
              "          docLink.innerHTML = docLinkHtml;\n",
              "          element.appendChild(docLink);\n",
              "        }\n",
              "      </script>\n",
              "    </div>\n",
              "  </div>\n",
              "  "
            ]
          },
          "metadata": {},
          "execution_count": 26
        }
      ]
    },
    {
      "cell_type": "code",
      "source": [
        "# Logistic activation function\n",
        "\n",
        "x=df['sepal_length']\n",
        "z=1/(1+np.exp(-x))\n",
        "\n",
        "print(\" x values \\n\")\n",
        "print(x)\n",
        "\n",
        "print(\" y values \\n\")\n",
        "print(z)\n",
        "print(\"\\n\")\n",
        "plt.plot(x,z)\n",
        "plt.xlabel(\"x\")\n",
        "plt.ylabel(\"LOgistic activation (x)\")\n",
        "plt.show()"
      ],
      "metadata": {
        "colab": {
          "base_uri": "https://localhost:8080/",
          "height": 800
        },
        "id": "V3kEWTF8zHxK",
        "outputId": "ff245908-1336-49c4-84b0-a193f7f5c0ad"
      },
      "execution_count": null,
      "outputs": [
        {
          "output_type": "stream",
          "name": "stdout",
          "text": [
            " x values \n",
            "\n",
            "0      5.1\n",
            "1      4.9\n",
            "2      4.7\n",
            "3      4.6\n",
            "4      5.0\n",
            "      ... \n",
            "145    6.7\n",
            "146    6.3\n",
            "147    6.5\n",
            "148    6.2\n",
            "149    5.9\n",
            "Name: sepal_length, Length: 150, dtype: float64\n",
            " y values \n",
            "\n",
            "0      0.993940\n",
            "1      0.992608\n",
            "2      0.990987\n",
            "3      0.990048\n",
            "4      0.993307\n",
            "         ...   \n",
            "145    0.998771\n",
            "146    0.998167\n",
            "147    0.998499\n",
            "148    0.997975\n",
            "149    0.997268\n",
            "Name: sepal_length, Length: 150, dtype: float64\n",
            "\n",
            "\n"
          ]
        },
        {
          "output_type": "display_data",
          "data": {
            "text/plain": [
              "<Figure size 432x288 with 1 Axes>"
            ],
            "image/png": "[encoded data removed]"
          },
          "metadata": {
            "needs_background": "light"
          }
        }
      ]
    },
    {
      "cell_type": "code",
      "source": [
        "# Signum activaton function\n",
        "\n",
        "x1=df['sepal_width']\n",
        "z1 = []\n",
        "\n",
        "for i in x1:\n",
        "  if i < 0:\n",
        "    z1.append(-1)\n",
        "  elif i == 0:\n",
        "    z1.append(0)\n",
        "  else:\n",
        "    z1.append(1)\n",
        "\n",
        "print(\" x values \\n\")\n",
        "print(x1)\n",
        "print(\" y values \\n\")\n",
        "print(z1)\n",
        "print(\"\\n\")\n",
        "plt.plot(x1, z1)\n",
        "plt.xlabel(\"x\")\n",
        "plt.ylabel(\"Signum Activation(x)\")\n",
        "\n",
        "plt.show()"
      ],
      "metadata": {
        "colab": {
          "base_uri": "https://localhost:8080/",
          "height": 629
        },
        "id": "Ccx1GdPizke9",
        "outputId": "770a64a6-e2a6-44d4-b6f1-07d9b6057114"
      },
      "execution_count": null,
      "outputs": [
        {
          "output_type": "stream",
          "name": "stdout",
          "text": [
            " x values \n",
            "\n",
            "0      3.5\n",
            "1      3.0\n",
            "2      3.2\n",
            "3      3.1\n",
            "4      3.6\n",
            "      ... \n",
            "145    3.0\n",
            "146    2.5\n",
            "147    3.0\n",
            "148    3.4\n",
            "149    3.0\n",
            "Name: sepal_width, Length: 150, dtype: float64\n",
            " y values \n",
            "\n",
            "[1, 1, 1, 1, 1, 1, 1, 1, 1, 1, 1, 1, 1, 1, 1, 1, 1, 1, 1, 1, 1, 1, 1, 1, 1, 1, 1, 1, 1, 1, 1, 1, 1, 1, 1, 1, 1, 1, 1, 1, 1, 1, 1, 1, 1, 1, 1, 1, 1, 1, 1, 1, 1, 1, 1, 1, 1, 1, 1, 1, 1, 1, 1, 1, 1, 1, 1, 1, 1, 1, 1, 1, 1, 1, 1, 1, 1, 1, 1, 1, 1, 1, 1, 1, 1, 1, 1, 1, 1, 1, 1, 1, 1, 1, 1, 1, 1, 1, 1, 1, 1, 1, 1, 1, 1, 1, 1, 1, 1, 1, 1, 1, 1, 1, 1, 1, 1, 1, 1, 1, 1, 1, 1, 1, 1, 1, 1, 1, 1, 1, 1, 1, 1, 1, 1, 1, 1, 1, 1, 1, 1, 1, 1, 1, 1, 1, 1, 1, 1, 1]\n",
            "\n",
            "\n"
          ]
        },
        {
          "output_type": "display_data",
          "data": {
            "text/plain": [
              "<Figure size 432x288 with 1 Axes>"
            ],
            "image/png": "[encoded data removed]"
          },
          "metadata": {
            "needs_background": "light"
          }
        }
      ]
    },
    {
      "cell_type": "code",
      "source": [
        "# Linear activation function\n",
        "\n",
        "x2=df['petal_length']\n",
        "z2=x2\n",
        "print(\" x values \\n\")\n",
        "print(x2)\n",
        "\n",
        "print(\" y values \\n\")\n",
        "print(z2)\n",
        "print(\"\\n\")\n",
        "plt.plot(x2,z2)\n",
        "plt.xlabel(\"x\")\n",
        "plt.ylabel(\"Linear activation (x)\")\n",
        "plt.show()"
      ],
      "metadata": {
        "colab": {
          "base_uri": "https://localhost:8080/",
          "height": 800
        },
        "id": "TwpOG8AeztLi",
        "outputId": "b379d940-b123-4b77-cb77-7344549b014e"
      },
      "execution_count": null,
      "outputs": [
        {
          "output_type": "stream",
          "name": "stdout",
          "text": [
            " x values \n",
            "\n",
            "0      1.4\n",
            "1      1.4\n",
            "2      1.3\n",
            "3      1.5\n",
            "4      1.4\n",
            "      ... \n",
            "145    5.2\n",
            "146    5.0\n",
            "147    5.2\n",
            "148    5.4\n",
            "149    5.1\n",
            "Name: petal_length, Length: 150, dtype: float64\n",
            " y values \n",
            "\n",
            "0      1.4\n",
            "1      1.4\n",
            "2      1.3\n",
            "3      1.5\n",
            "4      1.4\n",
            "      ... \n",
            "145    5.2\n",
            "146    5.0\n",
            "147    5.2\n",
            "148    5.4\n",
            "149    5.1\n",
            "Name: petal_length, Length: 150, dtype: float64\n",
            "\n",
            "\n"
          ]
        },
        {
          "output_type": "display_data",
          "data": {
            "text/plain": [
              "<Figure size 432x288 with 1 Axes>"
            ],
            "image/png": "[encoded data removed]"
          },
          "metadata": {
            "needs_background": "light"
          }
        }
      ]
    },
    {
      "cell_type": "code",
      "source": [
        "# Tangent activation function\n",
        "\n",
        "x3=df['petal_width']\n",
        "z3=np.tanh(x3)\n",
        "print(\" x values \\n\")\n",
        "print(x3)\n",
        "\n",
        "print(\" y values \\n\")\n",
        "print(z3)\n",
        "print(\"\\n\")\n",
        "plt.plot(x3,z3)\n",
        "plt.xlabel(\"x\")\n",
        "plt.ylabel(\"Tangent activation (x)\")\n",
        "plt.show()"
      ],
      "metadata": {
        "colab": {
          "base_uri": "https://localhost:8080/",
          "height": 800
        },
        "id": "DYPiKs2Q0A85",
        "outputId": "d2248764-5f3f-470a-ecec-6f20473d8b47"
      },
      "execution_count": null,
      "outputs": [
        {
          "output_type": "stream",
          "name": "stdout",
          "text": [
            " x values \n",
            "\n",
            "0      0.2\n",
            "1      0.2\n",
            "2      0.2\n",
            "3      0.2\n",
            "4      0.2\n",
            "      ... \n",
            "145    2.3\n",
            "146    1.9\n",
            "147    2.0\n",
            "148    2.3\n",
            "149    1.8\n",
            "Name: petal_width, Length: 150, dtype: float64\n",
            " y values \n",
            "\n",
            "0      0.197375\n",
            "1      0.197375\n",
            "2      0.197375\n",
            "3      0.197375\n",
            "4      0.197375\n",
            "         ...   \n",
            "145    0.980096\n",
            "146    0.956237\n",
            "147    0.964028\n",
            "148    0.980096\n",
            "149    0.946806\n",
            "Name: petal_width, Length: 150, dtype: float64\n",
            "\n",
            "\n"
          ]
        },
        {
          "output_type": "display_data",
          "data": {
            "text/plain": [
              "<Figure size 432x288 with 1 Axes>"
            ],
            "image/png": "[encoded data removed]"
          },
          "metadata": {
            "needs_background": "light"
          }
        }
      ]
    },
    {
      "cell_type": "code",
      "source": [
        "# Heaviside activation function\n",
        "\n",
        "x4=df['petal_length']\n",
        "z4=np.heaviside(x4,2)\n",
        "print(\" x values \\n\")\n",
        "print(x4)\n",
        "\n",
        "print(\" y values \\n\")\n",
        "print(z4)\n",
        "print(\"\\n\")\n",
        "plt.plot(x4,z4)\n",
        "plt.xlabel(\"x\")\n",
        "plt.ylabel(\"Heaviside activation (x)\")\n",
        "plt.show()"
      ],
      "metadata": {
        "colab": {
          "base_uri": "https://localhost:8080/",
          "height": 800
        },
        "id": "NEe1yu1I0dWD",
        "outputId": "c4476670-afc2-471b-c614-e7bbbbfbc433"
      },
      "execution_count": null,
      "outputs": [
        {
          "output_type": "stream",
          "name": "stdout",
          "text": [
            " x values \n",
            "\n",
            "0      1.4\n",
            "1      1.4\n",
            "2      1.3\n",
            "3      1.5\n",
            "4      1.4\n",
            "      ... \n",
            "145    5.2\n",
            "146    5.0\n",
            "147    5.2\n",
            "148    5.4\n",
            "149    5.1\n",
            "Name: petal_length, Length: 150, dtype: float64\n",
            " y values \n",
            "\n",
            "0      1.0\n",
            "1      1.0\n",
            "2      1.0\n",
            "3      1.0\n",
            "4      1.0\n",
            "      ... \n",
            "145    1.0\n",
            "146    1.0\n",
            "147    1.0\n",
            "148    1.0\n",
            "149    1.0\n",
            "Name: petal_length, Length: 150, dtype: float64\n",
            "\n",
            "\n"
          ]
        },
        {
          "output_type": "display_data",
          "data": {
            "text/plain": [
              "<Figure size 432x288 with 1 Axes>"
            ],
            "image/png": "[encoded data removed]"
          },
          "metadata": {
            "needs_background": "light"
          }
        }
      ]
    },
    {
      "cell_type": "code",
      "source": [
        "# Piece-wise Linear activation function\n",
        "\n",
        "x5=df['sepal_length']\n",
        "z5 = []\n",
        "\n",
        "for i in x5:\n",
        "  if i >= 1/2:\n",
        "    z5.append(1)\n",
        "  elif i < 1/2 or i > -1/2:\n",
        "    z5.append(i+(1/2))\n",
        "  else: # i <= - 1/2\n",
        "    z5.append(0)\n",
        "print(\" x values \\n\")\n",
        "print(x5)\n",
        "print(\" y values \\n\")\n",
        "print(z5)\n",
        "\n",
        "plt.xlim((-5,5))\n",
        "plt.ylim((-5,5))\n",
        "print(\"\\n\")\n",
        "plt.plot(x5, z5)\n",
        "plt.xlabel(\"x\")\n",
        "plt.ylabel(\"PieceWiseLinear(x)\")\n",
        "\n",
        "plt.show()"
      ],
      "metadata": {
        "colab": {
          "base_uri": "https://localhost:8080/",
          "height": 629
        },
        "id": "UyyUYzWs0jKU",
        "outputId": "a243cce0-add7-4139-da01-0d03782a4d14"
      },
      "execution_count": null,
      "outputs": [
        {
          "output_type": "stream",
          "name": "stdout",
          "text": [
            " x values \n",
            "\n",
            "0      5.1\n",
            "1      4.9\n",
            "2      4.7\n",
            "3      4.6\n",
            "4      5.0\n",
            "      ... \n",
            "145    6.7\n",
            "146    6.3\n",
            "147    6.5\n",
            "148    6.2\n",
            "149    5.9\n",
            "Name: sepal_length, Length: 150, dtype: float64\n",
            " y values \n",
            "\n",
            "[1, 1, 1, 1, 1, 1, 1, 1, 1, 1, 1, 1, 1, 1, 1, 1, 1, 1, 1, 1, 1, 1, 1, 1, 1, 1, 1, 1, 1, 1, 1, 1, 1, 1, 1, 1, 1, 1, 1, 1, 1, 1, 1, 1, 1, 1, 1, 1, 1, 1, 1, 1, 1, 1, 1, 1, 1, 1, 1, 1, 1, 1, 1, 1, 1, 1, 1, 1, 1, 1, 1, 1, 1, 1, 1, 1, 1, 1, 1, 1, 1, 1, 1, 1, 1, 1, 1, 1, 1, 1, 1, 1, 1, 1, 1, 1, 1, 1, 1, 1, 1, 1, 1, 1, 1, 1, 1, 1, 1, 1, 1, 1, 1, 1, 1, 1, 1, 1, 1, 1, 1, 1, 1, 1, 1, 1, 1, 1, 1, 1, 1, 1, 1, 1, 1, 1, 1, 1, 1, 1, 1, 1, 1, 1, 1, 1, 1, 1, 1, 1]\n",
            "\n",
            "\n"
          ]
        },
        {
          "output_type": "display_data",
          "data": {
            "text/plain": [
              "<Figure size 432x288 with 1 Axes>"
            ],
            "image/png": "[encoded data removed]"
          },
          "metadata": {
            "needs_background": "light"
          }
        }
      ]
    },
    {
      "cell_type": "markdown",
      "source": [
        "# Lab 2 "
      ],
      "metadata": {
        "id": "f7hPzg8Q1HHM"
      }
    },
    {
      "cell_type": "markdown",
      "source": [
        "A Perceptron is a neural network unit that does certain computations to detect features or business intelligence in the input data. It is a function that maps its input “x,” which is multiplied by the learned weight coefficient, and generates an output value ”f(x)."
      ],
      "metadata": {
        "id": "6j6jTgB-1XK3"
      }
    },
    {
      "cell_type": "markdown",
      "source": [
        "The original Perceptron was designed to take a number of binary inputs, and produce one binary output (0 or 1).\n",
        "\n",
        "The idea was to use different weights to represent the importance of each input, and that the sum of the values should be greater than a threshold value before making a decision like true or false (0 or 1)."
      ],
      "metadata": {
        "id": "vN0Iav951jM6"
      }
    },
    {
      "cell_type": "code",
      "source": [
        "inputdata=[[0,0],[0,1],[1,0],[1,1]]\n",
        "w1=1.5\n",
        "w2=0.5\n",
        "w0 =-0.5"
      ],
      "metadata": {
        "id": "uWwyYHsK1Wmz"
      },
      "execution_count": null,
      "outputs": []
    },
    {
      "cell_type": "code",
      "source": [
        "def andOpration(list1)->list:\n",
        "  li=[]\n",
        "  for i in list1:\n",
        "    li.append(i[0]*i[1])\n",
        "  return li\n",
        "\n",
        "def orOpration(list1)->list:\n",
        "  li=[]\n",
        "  for i in list1:\n",
        "    li.append(i[0]+i[1] if i[0]+i[1]!=2 else 1)\n",
        "  return li  \n",
        "\n",
        "def xorOperation(list1)->list:\n",
        "  li=[]\n",
        "  for i in list1:\n",
        "    li.append(1 if i.count(0)==1 and i.count(1)==1 else 0)\n",
        "  return li\n",
        "\n",
        "print(andOpration(inputdata))  \n",
        "print(orOpration(inputdata))\n",
        "print(xorOperation(inputdata))"
      ],
      "metadata": {
        "colab": {
          "base_uri": "https://localhost:8080/"
        },
        "id": "0Fs29QtKqOwX",
        "outputId": "de6a1160-6e23-49e7-e23e-6729b03214b8"
      },
      "execution_count": null,
      "outputs": [
        {
          "output_type": "stream",
          "name": "stdout",
          "text": [
            "[0, 0, 0, 1]\n",
            "[0, 1, 1, 1]\n",
            "[0, 1, 1, 0]\n"
          ]
        }
      ]
    },
    {
      "cell_type": "code",
      "source": [
        "output=[]\n",
        "for i in inputdata:\n",
        "  output.append((i[0]*w1)+(i[1]*w2)+w0)\n",
        "print(output)  "
      ],
      "metadata": {
        "colab": {
          "base_uri": "https://localhost:8080/"
        },
        "id": "J0n5RmdGqTOW",
        "outputId": "38eedf34-eaed-4519-9bfa-0b17a98193a0"
      },
      "execution_count": null,
      "outputs": [
        {
          "output_type": "stream",
          "name": "stdout",
          "text": [
            "[-0.5, 0.0, 1.0, 1.5]\n"
          ]
        }
      ]
    },
    {
      "cell_type": "markdown",
      "source": [
        "# Error in AND\n"
      ],
      "metadata": {
        "id": "erMK6SrVqXOt"
      }
    },
    {
      "cell_type": "code",
      "source": [
        "andlist=andOpration(inputdata)\n",
        "error=0\n",
        "for i in range(len(andOpration(inputdata))):\n",
        "  print(f\"{andlist[i]}- {output[i]}\")\n",
        "  error+=andlist[i]-output[i]\n",
        "print(f\"Error is {error}\")  "
      ],
      "metadata": {
        "colab": {
          "base_uri": "https://localhost:8080/"
        },
        "id": "k8CbI2pIqbDI",
        "outputId": "36f64524-650a-498a-caeb-a5821f6bf7be"
      },
      "execution_count": null,
      "outputs": [
        {
          "output_type": "stream",
          "name": "stdout",
          "text": [
            "0- -0.5\n",
            "0- 0.0\n",
            "0- 1.0\n",
            "1- 1.5\n",
            "Error is -1.0\n"
          ]
        }
      ]
    },
    {
      "cell_type": "markdown",
      "source": [
        "# Error in OR"
      ],
      "metadata": {
        "id": "TurDBAxQqgS4"
      }
    },
    {
      "cell_type": "code",
      "source": [
        "orlist=orOpration(inputdata)\n",
        "error=0\n",
        "for i in range(len(orOpration(inputdata))):\n",
        "  print(f\"{orlist[i]}- {output[i]}\")\n",
        "  error+=orlist[i]-output[i]\n",
        "print(f\"Error is {error}\")  "
      ],
      "metadata": {
        "colab": {
          "base_uri": "https://localhost:8080/"
        },
        "id": "NfhdLQvHqes1",
        "outputId": "00bddf6d-ba8e-45e1-d523-016f8846c027"
      },
      "execution_count": null,
      "outputs": [
        {
          "output_type": "stream",
          "name": "stdout",
          "text": [
            "0- -0.5\n",
            "1- 0.0\n",
            "1- 1.0\n",
            "1- 1.5\n",
            "Error is 1.0\n"
          ]
        }
      ]
    },
    {
      "cell_type": "markdown",
      "source": [
        "# Error in XOR"
      ],
      "metadata": {
        "id": "maCt2gGlqlpj"
      }
    },
    {
      "cell_type": "code",
      "source": [
        "xorlist=xorOperation(inputdata)\n",
        "error=0\n",
        "for i in range(len(xorOperation(inputdata))):\n",
        "  print(f\"{xorlist[i]}- {output[i]}\")\n",
        "  error+=xorlist[i]-output[i]\n",
        "print(f\"Error is {error}\")  "
      ],
      "metadata": {
        "colab": {
          "base_uri": "https://localhost:8080/"
        },
        "id": "DoCV9VkCqk6D",
        "outputId": "a7303b73-19c6-4c96-c384-4cb1f2f0f4b5"
      },
      "execution_count": null,
      "outputs": [
        {
          "output_type": "stream",
          "name": "stdout",
          "text": [
            "0- -0.5\n",
            "1- 0.0\n",
            "1- 1.0\n",
            "0- 1.5\n",
            "Error is 0.0\n"
          ]
        }
      ]
    },
    {
      "cell_type": "markdown",
      "source": [
        "# Lab 3 mlpclassifier"
      ],
      "metadata": {
        "id": "X--4LxwY2PJ7"
      }
    },
    {
      "cell_type": "markdown",
      "source": [
        "MLPClassifier stands for Multi-layer Perceptron classifier which in the name itself connects to a Neural Network. Unlike other classification algorithms such as Support Vectors or Naive Bayes Classifier, MLPClassifier relies on an underlying Neural Network to perform the task of classification."
      ],
      "metadata": {
        "id": "Xat5OMe73KM7"
      }
    },
    {
      "cell_type": "code",
      "source": [
        "import numpy as np\n",
        "import sklearn\n",
        "from sklearn import preprocessing\n",
        "from sklearn.neural_network import MLPClassifier"
      ],
      "metadata": {
        "id": "osMFSZmB3JgR"
      },
      "execution_count": null,
      "outputs": []
    },
    {
      "cell_type": "code",
      "source": [
        "input = np.array([\n",
        "    0, 0,\n",
        "    0, 1,\n",
        "    1, 0,\n",
        "    1, 1\n",
        "]).reshape(4, 2)\n",
        "print(\" input values X  and Y :\\n\",input)\n",
        "\n",
        "actual_output = np.array([0, 1, 1, 0]).reshape(4,)\n",
        "print(\" the expected output is \\n\",actual_output)"
      ],
      "metadata": {
        "id": "Huy67NAD2N0T",
        "colab": {
          "base_uri": "https://localhost:8080/"
        },
        "outputId": "2b903469-8696-4f81-98c4-c83b5a723091"
      },
      "execution_count": null,
      "outputs": [
        {
          "output_type": "stream",
          "name": "stdout",
          "text": [
            " input values X  and Y :\n",
            " [[0 0]\n",
            " [0 1]\n",
            " [1 0]\n",
            " [1 1]]\n",
            " the expected output is \n",
            " [0 1 1 0]\n"
          ]
        }
      ]
    },
    {
      "cell_type": "code",
      "source": [
        "# Relu activation function\n",
        "\n",
        "model = sklearn.neural_network.MLPClassifier(\n",
        "    max_iter=10000, hidden_layer_sizes=(4,2))\n",
        "model.fit(input, actual_output)\n",
        "\n",
        "print('model score:', model.score(input, actual_output)) \n",
        "print('predicted output:', model.predict(input)) \n",
        "print('expected output:', np.array([0, 1, 1, 0]))\n",
        "print(model.coefs_)"
      ],
      "metadata": {
        "colab": {
          "base_uri": "https://localhost:8080/"
        },
        "id": "W794XIHiiPv6",
        "outputId": "3adbc665-39f1-41f7-f3a3-405123a8dda1"
      },
      "execution_count": null,
      "outputs": [
        {
          "output_type": "stream",
          "name": "stdout",
          "text": [
            "model score: 1.0\n",
            "predicted output: [0 1 1 0]\n",
            "expected output: [0 1 1 0]\n",
            "[array([[ 4.68857232e-01,  1.53999723e+00,  1.66052897e+00,\n",
            "        -1.42230253e-03],\n",
            "       [-9.95727487e-01, -1.54006318e+00, -9.71021493e-01,\n",
            "         2.49365308e-03]]), array([[ 8.36319110e-01,  2.27861540e+00],\n",
            "       [ 1.93081793e+00, -1.50908339e+00],\n",
            "       [ 6.39282379e-01,  2.06220319e+00],\n",
            "       [ 5.69691058e-06,  9.92893156e-03]]), array([[ 2.30670388],\n",
            "       [-1.0826222 ]])]\n"
          ]
        }
      ]
    },
    {
      "cell_type": "code",
      "source": [
        "# Tanh activation function\n",
        "\n",
        "model = sklearn.neural_network.MLPClassifier(\n",
        "    activation='tanh', max_iter=10000, hidden_layer_sizes=(4,2))\n",
        "model.fit(input, actual_output)\n",
        "\n",
        "print('model score:', model.score(input, actual_output)) \n",
        "print('predicted output:', model.predict(input)) \n",
        "print('expected output:', np.array([0, 1, 1, 0]))"
      ],
      "metadata": {
        "colab": {
          "base_uri": "https://localhost:8080/"
        },
        "id": "OwvbI_4OirpP",
        "outputId": "76223840-1b8a-45c9-f435-267e4e7f9734"
      },
      "execution_count": null,
      "outputs": [
        {
          "output_type": "stream",
          "name": "stdout",
          "text": [
            "model score: 0.75\n",
            "predicted output: [0 1 1 1]\n",
            "expected output: [0 1 1 0]\n"
          ]
        }
      ]
    },
    {
      "cell_type": "code",
      "source": [
        "# Tanh activation function\n",
        "\n",
        "model = sklearn.neural_network.MLPClassifier(\n",
        "    activation='logistic', max_iter=10000, hidden_layer_sizes=(4,2))\n",
        "model.fit(input, actual_output)\n",
        "\n",
        "print('model score:', model.score(input, actual_output)) \n",
        "print('predicted output:', model.predict(input)) \n",
        "print('expected output:', np.array([0, 1, 1, 0]))"
      ],
      "metadata": {
        "colab": {
          "base_uri": "https://localhost:8080/"
        },
        "id": "_Nx6FK-GAD8r",
        "outputId": "da5cacdb-2386-435d-84e3-99e304d07781"
      },
      "execution_count": null,
      "outputs": [
        {
          "output_type": "stream",
          "name": "stdout",
          "text": [
            "model score: 0.5\n",
            "predicted output: [1 1 1 1]\n",
            "expected output: [0 1 1 0]\n"
          ]
        }
      ]
    },
    {
      "cell_type": "code",
      "source": [
        "# import the module numpy\n",
        "import numpy as np\n",
        "\n",
        "\n",
        "# the features for the or model , here we have\n",
        "# taken the possible values for combination of\n",
        "# two inputs\n",
        "features = np.array(\n",
        "[\n",
        "[-1, -1],\n",
        "[-1, 1],\n",
        "[1, -1],\n",
        "[1, 1]\n",
        "])\n",
        "\n",
        "\n",
        "# labels for the or model, here the output for\n",
        "# the features is taken as an array\n",
        "labels = np.array([-1, 1, 1, 1])\n",
        "\n",
        "# to print the features and the labels for\n",
        "# which the model has to be trained\n",
        "print(features, labels)\n",
        "\n",
        "# initialise weights, bias , learning rate, epoch\n",
        "weight = [0.5, 0.5]\n",
        "bias = 0.1\n",
        "learning_rate = 0.2\n",
        "epoch = 10\n",
        "\n",
        "for i in range(epoch):\n",
        "\n",
        "# epoch is the number of the model is trained\n",
        "# with the same data\n",
        "print(\"epoch :\", i+1)\n",
        "\n",
        "# variable to check if there is no change in previous\n",
        "# weight and present calculated weight\n",
        "# initial error is kept as 0\n",
        "sum_squared_error = 0.0\n",
        "\n",
        "# for each of the possible input given in the features\n",
        "for j in range(features.shape[0]):\n",
        "\n",
        "# actual output to be obtained\n",
        "actual = labels[j]\n",
        "\n",
        "# the value of two features as given in the features\n",
        "# array\n",
        "x1 = features[j][0]\n",
        "x2 = features[j][1]\n",
        "\n",
        "# net unit value computation performed to obtain the\n",
        "# sum of features multiplied with their weights\n",
        "unit = (x1 * weight[0]) + (x2 * weight[1]) + bias\n",
        "\n",
        "# error is computed so as to update the weights\n",
        "error = actual - unit\n",
        "\n",
        "# print statement to print the actual value , predicted\n",
        "# value and the error\n",
        "print(\"error =\", error)\n",
        "\n",
        "# summation of squared error is calculated\n",
        "sum_squared_error += error * error\n",
        "\n",
        "# updation of weights, summing up of product of learning rate ,\n",
        "# sum of squared error and feature value\n",
        "weight[0] += learning_rate * error * x1\n",
        "weight[1] += learning_rate * error * x2\n",
        "\n",
        "# updation of bias, summing up of product of learning rate and\n",
        "# sum of squared error\n",
        "bias += learning_rate * error\n",
        "\n",
        "print(\"sum of squared error = \", sum_squared_error/4, \"\\n\\n\")"
      ],
      "metadata": {
        "colab": {
          "base_uri": "https://localhost:8080/",
          "height": 130
        },
        "id": "JN5tJLBD-P7_",
        "outputId": "dadaa610-a8c3-45d0-989b-7b035c497861"
      },
      "execution_count": 13,
      "outputs": [
        {
          "output_type": "error",
          "ename": "IndentationError",
          "evalue": "ignored",
          "traceback": [
            "\u001b[0;36m  File \u001b[0;32m\"<ipython-input-13-749ed00870d2>\"\u001b[0;36m, line \u001b[0;32m35\u001b[0m\n\u001b[0;31m    print(\"epoch :\", i+1)\u001b[0m\n\u001b[0m        ^\u001b[0m\n\u001b[0;31mIndentationError\u001b[0m\u001b[0;31m:\u001b[0m expected an indented block\n"
          ]
        }
      ]
    }
  ]
}